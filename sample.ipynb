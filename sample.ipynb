{
 "cells": [
  {
   "metadata": {
    "ExecuteTime": {
     "end_time": "2024-12-23T19:54:21.436875Z",
     "start_time": "2024-12-23T19:54:21.415364Z"
    }
   },
   "cell_type": "code",
   "source": [
    "import pandas as pd\n",
    "import numpy as np\n",
    "from sklearn.model_selection import train_test_split\n",
    "from sklearn.tree import DecisionTreeClassifier\n",
    "from sklearn.metrics import accuracy_score\n",
    "from tensorflow.keras.applications import VGG16\n",
    "from tensorflow.keras.applications.vgg16 import preprocess_input\n",
    "from tensorflow.keras.preprocessing.image import load_img, img_to_array\n",
    "from sklearn.preprocessing import StandardScaler\n",
    "import os"
   ],
   "id": "fbc121e30a2defb3",
   "outputs": [],
   "execution_count": 80
  },
  {
   "metadata": {
    "ExecuteTime": {
     "end_time": "2024-12-23T19:54:22.298402Z",
     "start_time": "2024-12-23T19:54:21.446883Z"
    }
   },
   "cell_type": "code",
   "source": [
    "data = pd.read_csv(\"dataset.csv\")\n",
    "data = data.sample(frac=0.1, random_state=152).reset_index(drop=True)\n",
    "data.head()"
   ],
   "id": "3b32ee7b5209627f",
   "outputs": [
    {
     "data": {
      "text/plain": [
       "                                    IMAGE     mfcc_1    mfcc_2     mfcc_3  \\\n",
       "0  images/restaurant8/restaurant8-100.png  15.165948 -2.141235   9.286420   \n",
       "1            images/forest3/forest356.png  17.045248 -6.229930 -18.036703   \n",
       "2            images/store4/store4-324.png  17.652627 -2.283363  -5.452459   \n",
       "3             images/jungle/jungle401.png  19.991208  0.009975 -15.222428   \n",
       "4      images/guangzhou/guangzhou-263.png  21.205595  0.406901 -22.180693   \n",
       "\n",
       "      mfcc_4     mfcc_5     mfcc_6     mfcc_7     mfcc_8     mfcc_9  ...  \\\n",
       "0   1.276252   1.978727  -7.141750  -7.757782 -22.555491 -22.951110  ...   \n",
       "1 -51.227805  -1.435460   3.107496  34.402218 -15.338986 -11.933055  ...   \n",
       "2   0.594263   1.907081   5.639656   7.771414   4.310419  -2.162805  ...   \n",
       "3 -40.892043  23.677698 -16.791392   6.900601 -14.606536  17.603168  ...   \n",
       "4 -64.185971 -13.192887 -19.114017  43.447216  -5.498353  16.932920  ...   \n",
       "\n",
       "     mfcc_97    mfcc_98    mfcc_99   mfcc_100   mfcc_101   mfcc_102  \\\n",
       "0 -16.540592   9.084150 -32.186303   6.222683 -20.351334   4.762919   \n",
       "1 -42.132071  26.142573 -12.519227   8.086807  -1.649185 -11.968917   \n",
       "2 -38.625909  28.622475 -19.566231  -7.562156  -2.760357  -8.091560   \n",
       "3 -49.188256   7.746468 -18.921268  23.668902 -26.629859 -26.415880   \n",
       "4 -15.448265  38.640644 -14.117458   9.245900  -3.854710   6.792360   \n",
       "\n",
       "    mfcc_103   mfcc_104    CLASS1         CLASS2  \n",
       "0 -34.971174  -7.625437   INDOORS     RESTAURANT  \n",
       "1  -0.545824  -5.667114  OUTDOORS         FOREST  \n",
       "2  10.170529   0.616509   INDOORS  GROCERY-STORE  \n",
       "3  30.286166 -22.516286  OUTDOORS         JUNGLE  \n",
       "4 -12.728162   0.508508  OUTDOORS           CITY  \n",
       "\n",
       "[5 rows x 107 columns]"
      ],
      "text/html": [
       "<div>\n",
       "<style scoped>\n",
       "    .dataframe tbody tr th:only-of-type {\n",
       "        vertical-align: middle;\n",
       "    }\n",
       "\n",
       "    .dataframe tbody tr th {\n",
       "        vertical-align: top;\n",
       "    }\n",
       "\n",
       "    .dataframe thead th {\n",
       "        text-align: right;\n",
       "    }\n",
       "</style>\n",
       "<table border=\"1\" class=\"dataframe\">\n",
       "  <thead>\n",
       "    <tr style=\"text-align: right;\">\n",
       "      <th></th>\n",
       "      <th>IMAGE</th>\n",
       "      <th>mfcc_1</th>\n",
       "      <th>mfcc_2</th>\n",
       "      <th>mfcc_3</th>\n",
       "      <th>mfcc_4</th>\n",
       "      <th>mfcc_5</th>\n",
       "      <th>mfcc_6</th>\n",
       "      <th>mfcc_7</th>\n",
       "      <th>mfcc_8</th>\n",
       "      <th>mfcc_9</th>\n",
       "      <th>...</th>\n",
       "      <th>mfcc_97</th>\n",
       "      <th>mfcc_98</th>\n",
       "      <th>mfcc_99</th>\n",
       "      <th>mfcc_100</th>\n",
       "      <th>mfcc_101</th>\n",
       "      <th>mfcc_102</th>\n",
       "      <th>mfcc_103</th>\n",
       "      <th>mfcc_104</th>\n",
       "      <th>CLASS1</th>\n",
       "      <th>CLASS2</th>\n",
       "    </tr>\n",
       "  </thead>\n",
       "  <tbody>\n",
       "    <tr>\n",
       "      <th>0</th>\n",
       "      <td>images/restaurant8/restaurant8-100.png</td>\n",
       "      <td>15.165948</td>\n",
       "      <td>-2.141235</td>\n",
       "      <td>9.286420</td>\n",
       "      <td>1.276252</td>\n",
       "      <td>1.978727</td>\n",
       "      <td>-7.141750</td>\n",
       "      <td>-7.757782</td>\n",
       "      <td>-22.555491</td>\n",
       "      <td>-22.951110</td>\n",
       "      <td>...</td>\n",
       "      <td>-16.540592</td>\n",
       "      <td>9.084150</td>\n",
       "      <td>-32.186303</td>\n",
       "      <td>6.222683</td>\n",
       "      <td>-20.351334</td>\n",
       "      <td>4.762919</td>\n",
       "      <td>-34.971174</td>\n",
       "      <td>-7.625437</td>\n",
       "      <td>INDOORS</td>\n",
       "      <td>RESTAURANT</td>\n",
       "    </tr>\n",
       "    <tr>\n",
       "      <th>1</th>\n",
       "      <td>images/forest3/forest356.png</td>\n",
       "      <td>17.045248</td>\n",
       "      <td>-6.229930</td>\n",
       "      <td>-18.036703</td>\n",
       "      <td>-51.227805</td>\n",
       "      <td>-1.435460</td>\n",
       "      <td>3.107496</td>\n",
       "      <td>34.402218</td>\n",
       "      <td>-15.338986</td>\n",
       "      <td>-11.933055</td>\n",
       "      <td>...</td>\n",
       "      <td>-42.132071</td>\n",
       "      <td>26.142573</td>\n",
       "      <td>-12.519227</td>\n",
       "      <td>8.086807</td>\n",
       "      <td>-1.649185</td>\n",
       "      <td>-11.968917</td>\n",
       "      <td>-0.545824</td>\n",
       "      <td>-5.667114</td>\n",
       "      <td>OUTDOORS</td>\n",
       "      <td>FOREST</td>\n",
       "    </tr>\n",
       "    <tr>\n",
       "      <th>2</th>\n",
       "      <td>images/store4/store4-324.png</td>\n",
       "      <td>17.652627</td>\n",
       "      <td>-2.283363</td>\n",
       "      <td>-5.452459</td>\n",
       "      <td>0.594263</td>\n",
       "      <td>1.907081</td>\n",
       "      <td>5.639656</td>\n",
       "      <td>7.771414</td>\n",
       "      <td>4.310419</td>\n",
       "      <td>-2.162805</td>\n",
       "      <td>...</td>\n",
       "      <td>-38.625909</td>\n",
       "      <td>28.622475</td>\n",
       "      <td>-19.566231</td>\n",
       "      <td>-7.562156</td>\n",
       "      <td>-2.760357</td>\n",
       "      <td>-8.091560</td>\n",
       "      <td>10.170529</td>\n",
       "      <td>0.616509</td>\n",
       "      <td>INDOORS</td>\n",
       "      <td>GROCERY-STORE</td>\n",
       "    </tr>\n",
       "    <tr>\n",
       "      <th>3</th>\n",
       "      <td>images/jungle/jungle401.png</td>\n",
       "      <td>19.991208</td>\n",
       "      <td>0.009975</td>\n",
       "      <td>-15.222428</td>\n",
       "      <td>-40.892043</td>\n",
       "      <td>23.677698</td>\n",
       "      <td>-16.791392</td>\n",
       "      <td>6.900601</td>\n",
       "      <td>-14.606536</td>\n",
       "      <td>17.603168</td>\n",
       "      <td>...</td>\n",
       "      <td>-49.188256</td>\n",
       "      <td>7.746468</td>\n",
       "      <td>-18.921268</td>\n",
       "      <td>23.668902</td>\n",
       "      <td>-26.629859</td>\n",
       "      <td>-26.415880</td>\n",
       "      <td>30.286166</td>\n",
       "      <td>-22.516286</td>\n",
       "      <td>OUTDOORS</td>\n",
       "      <td>JUNGLE</td>\n",
       "    </tr>\n",
       "    <tr>\n",
       "      <th>4</th>\n",
       "      <td>images/guangzhou/guangzhou-263.png</td>\n",
       "      <td>21.205595</td>\n",
       "      <td>0.406901</td>\n",
       "      <td>-22.180693</td>\n",
       "      <td>-64.185971</td>\n",
       "      <td>-13.192887</td>\n",
       "      <td>-19.114017</td>\n",
       "      <td>43.447216</td>\n",
       "      <td>-5.498353</td>\n",
       "      <td>16.932920</td>\n",
       "      <td>...</td>\n",
       "      <td>-15.448265</td>\n",
       "      <td>38.640644</td>\n",
       "      <td>-14.117458</td>\n",
       "      <td>9.245900</td>\n",
       "      <td>-3.854710</td>\n",
       "      <td>6.792360</td>\n",
       "      <td>-12.728162</td>\n",
       "      <td>0.508508</td>\n",
       "      <td>OUTDOORS</td>\n",
       "      <td>CITY</td>\n",
       "    </tr>\n",
       "  </tbody>\n",
       "</table>\n",
       "<p>5 rows × 107 columns</p>\n",
       "</div>"
      ]
     },
     "execution_count": 81,
     "metadata": {},
     "output_type": "execute_result"
    }
   ],
   "execution_count": 81
  },
  {
   "metadata": {
    "ExecuteTime": {
     "end_time": "2024-12-23T19:54:22.972965Z",
     "start_time": "2024-12-23T19:54:22.401239Z"
    }
   },
   "cell_type": "code",
   "source": [
    "mfcc_columns = [col for col in data.columns if 'mfcc' in col]\n",
    "audio_features = data[mfcc_columns].replace('[^.0-9-]', '', regex=True).astype(float).values\n",
    "vgg_model = VGG16(weights='imagenet', include_top=False, input_shape=(224, 224, 3))"
   ],
   "id": "600357a7cadbb0b5",
   "outputs": [],
   "execution_count": 82
  },
  {
   "metadata": {
    "ExecuteTime": {
     "end_time": "2024-12-23T19:54:23.151931Z",
     "start_time": "2024-12-23T19:54:23.097277Z"
    }
   },
   "cell_type": "code",
   "source": [
    "scaler = StandardScaler()\n",
    "audio_features_scaled = scaler.fit_transform(audio_features)"
   ],
   "id": "37199dfda060164f",
   "outputs": [],
   "execution_count": 83
  },
  {
   "metadata": {
    "ExecuteTime": {
     "end_time": "2024-12-23T19:54:23.297591Z",
     "start_time": "2024-12-23T19:54:23.289780Z"
    }
   },
   "cell_type": "code",
   "source": [
    "def train_and_evaluate(X, y, label):\n",
    "    X_train, X_test, y_train, y_test = train_test_split(X, y, test_size=0.2, random_state=42)\n",
    "    model = DecisionTreeClassifier()\n",
    "    model.fit(X_train, y_train)\n",
    "    y_pred = model.predict(X_test)\n",
    "    print(f\"{label} Accuracy:\", accuracy_score(y_test, y_pred))"
   ],
   "id": "cd4a757957c73d59",
   "outputs": [],
   "execution_count": 84
  },
  {
   "metadata": {},
   "cell_type": "markdown",
   "source": "## Sound",
   "id": "7e3d2aff2a3d33b6"
  },
  {
   "metadata": {
    "ExecuteTime": {
     "end_time": "2024-12-23T19:54:23.823180Z",
     "start_time": "2024-12-23T19:54:23.420285Z"
    }
   },
   "cell_type": "code",
   "source": [
    "train_and_evaluate(audio_features_scaled, data['CLASS1'], \"Audio CLASS1 (Outdoors/Indoors)\")\n",
    "train_and_evaluate(audio_features_scaled, data['CLASS2'], \"Audio CLASS2 (FOREST, CITY, etc.)\")"
   ],
   "id": "44cf339844e7fc5e",
   "outputs": [
    {
     "name": "stdout",
     "output_type": "stream",
     "text": [
      "Audio CLASS1 (Outdoors/Indoors) Accuracy: 0.7333333333333333\n",
      "Audio CLASS2 (FOREST, CITY, etc.) Accuracy: 0.5884057971014492\n"
     ]
    }
   ],
   "execution_count": 85
  },
  {
   "metadata": {},
   "cell_type": "markdown",
   "source": "## Images",
   "id": "dc8ffbcf9aacdce0"
  },
  {
   "metadata": {
    "ExecuteTime": {
     "end_time": "2024-12-23T19:59:43.758770Z",
     "start_time": "2024-12-23T19:54:23.849921Z"
    }
   },
   "cell_type": "code",
   "source": [
    "def extract_image_features_batch(image_paths, batch_size=32):\n",
    "    features = []\n",
    "    batch_images = []\n",
    "    for i, path in enumerate(image_paths):\n",
    "        if os.path.exists(path):\n",
    "            img = load_img(path, target_size=(224, 224))\n",
    "            img_array = img_to_array(img)\n",
    "            img_array = preprocess_input(img_array)\n",
    "            batch_images.append(img_array)\n",
    "        else:\n",
    "            features.append(np.zeros((7 * 7 * 512,)))\n",
    "        \n",
    "        if len(batch_images) == batch_size or i == len(image_paths) - 1:\n",
    "            batch_images_array = np.array(batch_images)\n",
    "            batch_features = vgg_model.predict(batch_images_array)\n",
    "            features.extend(batch_features.reshape(batch_features.shape[0], -1))\n",
    "            batch_images = []\n",
    "    \n",
    "    return np.array(features)\n",
    "\n",
    "image_features = extract_image_features_batch(data['IMAGE'], batch_size=32)\n",
    "image_features_scaled = scaler.fit_transform(image_features)"
   ],
   "id": "dac34984afbb41e0",
   "outputs": [
    {
     "name": "stdout",
     "output_type": "stream",
     "text": [
      "\u001B[1m1/1\u001B[0m \u001B[32m━━━━━━━━━━━━━━━━━━━━\u001B[0m\u001B[37m\u001B[0m \u001B[1m7s\u001B[0m 7s/step\n",
      "\u001B[1m1/1\u001B[0m \u001B[32m━━━━━━━━━━━━━━━━━━━━\u001B[0m\u001B[37m\u001B[0m \u001B[1m6s\u001B[0m 6s/step\n",
      "\u001B[1m1/1\u001B[0m \u001B[32m━━━━━━━━━━━━━━━━━━━━\u001B[0m\u001B[37m\u001B[0m \u001B[1m6s\u001B[0m 6s/step\n",
      "\u001B[1m1/1\u001B[0m \u001B[32m━━━━━━━━━━━━━━━━━━━━\u001B[0m\u001B[37m\u001B[0m \u001B[1m5s\u001B[0m 5s/step\n",
      "\u001B[1m1/1\u001B[0m \u001B[32m━━━━━━━━━━━━━━━━━━━━\u001B[0m\u001B[37m\u001B[0m \u001B[1m5s\u001B[0m 5s/step\n",
      "\u001B[1m1/1\u001B[0m \u001B[32m━━━━━━━━━━━━━━━━━━━━\u001B[0m\u001B[37m\u001B[0m \u001B[1m5s\u001B[0m 5s/step\n",
      "\u001B[1m1/1\u001B[0m \u001B[32m━━━━━━━━━━━━━━━━━━━━\u001B[0m\u001B[37m\u001B[0m \u001B[1m5s\u001B[0m 5s/step\n",
      "\u001B[1m1/1\u001B[0m \u001B[32m━━━━━━━━━━━━━━━━━━━━\u001B[0m\u001B[37m\u001B[0m \u001B[1m5s\u001B[0m 5s/step\n",
      "\u001B[1m1/1\u001B[0m \u001B[32m━━━━━━━━━━━━━━━━━━━━\u001B[0m\u001B[37m\u001B[0m \u001B[1m5s\u001B[0m 5s/step\n",
      "\u001B[1m1/1\u001B[0m \u001B[32m━━━━━━━━━━━━━━━━━━━━\u001B[0m\u001B[37m\u001B[0m \u001B[1m5s\u001B[0m 5s/step\n",
      "\u001B[1m1/1\u001B[0m \u001B[32m━━━━━━━━━━━━━━━━━━━━\u001B[0m\u001B[37m\u001B[0m \u001B[1m6s\u001B[0m 6s/step\n",
      "\u001B[1m1/1\u001B[0m \u001B[32m━━━━━━━━━━━━━━━━━━━━\u001B[0m\u001B[37m\u001B[0m \u001B[1m5s\u001B[0m 5s/step\n",
      "\u001B[1m1/1\u001B[0m \u001B[32m━━━━━━━━━━━━━━━━━━━━\u001B[0m\u001B[37m\u001B[0m \u001B[1m5s\u001B[0m 5s/step\n",
      "\u001B[1m1/1\u001B[0m \u001B[32m━━━━━━━━━━━━━━━━━━━━\u001B[0m\u001B[37m\u001B[0m \u001B[1m5s\u001B[0m 5s/step\n",
      "\u001B[1m1/1\u001B[0m \u001B[32m━━━━━━━━━━━━━━━━━━━━\u001B[0m\u001B[37m\u001B[0m \u001B[1m5s\u001B[0m 5s/step\n",
      "\u001B[1m1/1\u001B[0m \u001B[32m━━━━━━━━━━━━━━━━━━━━\u001B[0m\u001B[37m\u001B[0m \u001B[1m5s\u001B[0m 5s/step\n",
      "\u001B[1m1/1\u001B[0m \u001B[32m━━━━━━━━━━━━━━━━━━━━\u001B[0m\u001B[37m\u001B[0m \u001B[1m5s\u001B[0m 5s/step\n",
      "\u001B[1m1/1\u001B[0m \u001B[32m━━━━━━━━━━━━━━━━━━━━\u001B[0m\u001B[37m\u001B[0m \u001B[1m6s\u001B[0m 6s/step\n",
      "\u001B[1m1/1\u001B[0m \u001B[32m━━━━━━━━━━━━━━━━━━━━\u001B[0m\u001B[37m\u001B[0m \u001B[1m5s\u001B[0m 5s/step\n",
      "\u001B[1m1/1\u001B[0m \u001B[32m━━━━━━━━━━━━━━━━━━━━\u001B[0m\u001B[37m\u001B[0m \u001B[1m5s\u001B[0m 5s/step\n",
      "\u001B[1m1/1\u001B[0m \u001B[32m━━━━━━━━━━━━━━━━━━━━\u001B[0m\u001B[37m\u001B[0m \u001B[1m6s\u001B[0m 6s/step\n",
      "\u001B[1m1/1\u001B[0m \u001B[32m━━━━━━━━━━━━━━━━━━━━\u001B[0m\u001B[37m\u001B[0m \u001B[1m6s\u001B[0m 6s/step\n",
      "\u001B[1m1/1\u001B[0m \u001B[32m━━━━━━━━━━━━━━━━━━━━\u001B[0m\u001B[37m\u001B[0m \u001B[1m5s\u001B[0m 5s/step\n",
      "\u001B[1m1/1\u001B[0m \u001B[32m━━━━━━━━━━━━━━━━━━━━\u001B[0m\u001B[37m\u001B[0m \u001B[1m6s\u001B[0m 6s/step\n",
      "\u001B[1m1/1\u001B[0m \u001B[32m━━━━━━━━━━━━━━━━━━━━\u001B[0m\u001B[37m\u001B[0m \u001B[1m6s\u001B[0m 6s/step\n",
      "\u001B[1m1/1\u001B[0m \u001B[32m━━━━━━━━━━━━━━━━━━━━\u001B[0m\u001B[37m\u001B[0m \u001B[1m6s\u001B[0m 6s/step\n",
      "\u001B[1m1/1\u001B[0m \u001B[32m━━━━━━━━━━━━━━━━━━━━\u001B[0m\u001B[37m\u001B[0m \u001B[1m5s\u001B[0m 5s/step\n",
      "\u001B[1m1/1\u001B[0m \u001B[32m━━━━━━━━━━━━━━━━━━━━\u001B[0m\u001B[37m\u001B[0m \u001B[1m5s\u001B[0m 5s/step\n",
      "\u001B[1m1/1\u001B[0m \u001B[32m━━━━━━━━━━━━━━━━━━━━\u001B[0m\u001B[37m\u001B[0m \u001B[1m5s\u001B[0m 5s/step\n",
      "\u001B[1m1/1\u001B[0m \u001B[32m━━━━━━━━━━━━━━━━━━━━\u001B[0m\u001B[37m\u001B[0m \u001B[1m6s\u001B[0m 6s/step\n",
      "\u001B[1m1/1\u001B[0m \u001B[32m━━━━━━━━━━━━━━━━━━━━\u001B[0m\u001B[37m\u001B[0m \u001B[1m6s\u001B[0m 6s/step\n",
      "\u001B[1m1/1\u001B[0m \u001B[32m━━━━━━━━━━━━━━━━━━━━\u001B[0m\u001B[37m\u001B[0m \u001B[1m6s\u001B[0m 6s/step\n",
      "\u001B[1m1/1\u001B[0m \u001B[32m━━━━━━━━━━━━━━━━━━━━\u001B[0m\u001B[37m\u001B[0m \u001B[1m6s\u001B[0m 6s/step\n",
      "\u001B[1m1/1\u001B[0m \u001B[32m━━━━━━━━━━━━━━━━━━━━\u001B[0m\u001B[37m\u001B[0m \u001B[1m6s\u001B[0m 6s/step\n",
      "\u001B[1m1/1\u001B[0m \u001B[32m━━━━━━━━━━━━━━━━━━━━\u001B[0m\u001B[37m\u001B[0m \u001B[1m7s\u001B[0m 7s/step\n",
      "\u001B[1m1/1\u001B[0m \u001B[32m━━━━━━━━━━━━━━━━━━━━\u001B[0m\u001B[37m\u001B[0m \u001B[1m6s\u001B[0m 6s/step\n",
      "\u001B[1m1/1\u001B[0m \u001B[32m━━━━━━━━━━━━━━━━━━━━\u001B[0m\u001B[37m\u001B[0m \u001B[1m6s\u001B[0m 6s/step\n",
      "\u001B[1m1/1\u001B[0m \u001B[32m━━━━━━━━━━━━━━━━━━━━\u001B[0m\u001B[37m\u001B[0m \u001B[1m6s\u001B[0m 6s/step\n",
      "\u001B[1m1/1\u001B[0m \u001B[32m━━━━━━━━━━━━━━━━━━━━\u001B[0m\u001B[37m\u001B[0m \u001B[1m5s\u001B[0m 5s/step\n",
      "\u001B[1m1/1\u001B[0m \u001B[32m━━━━━━━━━━━━━━━━━━━━\u001B[0m\u001B[37m\u001B[0m \u001B[1m5s\u001B[0m 5s/step\n",
      "\u001B[1m1/1\u001B[0m \u001B[32m━━━━━━━━━━━━━━━━━━━━\u001B[0m\u001B[37m\u001B[0m \u001B[1m5s\u001B[0m 5s/step\n",
      "\u001B[1m1/1\u001B[0m \u001B[32m━━━━━━━━━━━━━━━━━━━━\u001B[0m\u001B[37m\u001B[0m \u001B[1m5s\u001B[0m 5s/step\n",
      "\u001B[1m1/1\u001B[0m \u001B[32m━━━━━━━━━━━━━━━━━━━━\u001B[0m\u001B[37m\u001B[0m \u001B[1m5s\u001B[0m 5s/step\n",
      "\u001B[1m1/1\u001B[0m \u001B[32m━━━━━━━━━━━━━━━━━━━━\u001B[0m\u001B[37m\u001B[0m \u001B[1m5s\u001B[0m 5s/step\n",
      "\u001B[1m1/1\u001B[0m \u001B[32m━━━━━━━━━━━━━━━━━━━━\u001B[0m\u001B[37m\u001B[0m \u001B[1m6s\u001B[0m 6s/step\n",
      "\u001B[1m1/1\u001B[0m \u001B[32m━━━━━━━━━━━━━━━━━━━━\u001B[0m\u001B[37m\u001B[0m \u001B[1m5s\u001B[0m 5s/step\n",
      "\u001B[1m1/1\u001B[0m \u001B[32m━━━━━━━━━━━━━━━━━━━━\u001B[0m\u001B[37m\u001B[0m \u001B[1m6s\u001B[0m 6s/step\n",
      "\u001B[1m1/1\u001B[0m \u001B[32m━━━━━━━━━━━━━━━━━━━━\u001B[0m\u001B[37m\u001B[0m \u001B[1m6s\u001B[0m 6s/step\n",
      "\u001B[1m1/1\u001B[0m \u001B[32m━━━━━━━━━━━━━━━━━━━━\u001B[0m\u001B[37m\u001B[0m \u001B[1m5s\u001B[0m 5s/step\n",
      "\u001B[1m1/1\u001B[0m \u001B[32m━━━━━━━━━━━━━━━━━━━━\u001B[0m\u001B[37m\u001B[0m \u001B[1m6s\u001B[0m 6s/step\n",
      "\u001B[1m1/1\u001B[0m \u001B[32m━━━━━━━━━━━━━━━━━━━━\u001B[0m\u001B[37m\u001B[0m \u001B[1m6s\u001B[0m 6s/step\n",
      "\u001B[1m1/1\u001B[0m \u001B[32m━━━━━━━━━━━━━━━━━━━━\u001B[0m\u001B[37m\u001B[0m \u001B[1m6s\u001B[0m 6s/step\n",
      "\u001B[1m1/1\u001B[0m \u001B[32m━━━━━━━━━━━━━━━━━━━━\u001B[0m\u001B[37m\u001B[0m \u001B[1m7s\u001B[0m 7s/step\n",
      "\u001B[1m1/1\u001B[0m \u001B[32m━━━━━━━━━━━━━━━━━━━━\u001B[0m\u001B[37m\u001B[0m \u001B[1m6s\u001B[0m 6s/step\n"
     ]
    }
   ],
   "execution_count": 86
  },
  {
   "metadata": {
    "ExecuteTime": {
     "end_time": "2024-12-23T20:00:07.954965Z",
     "start_time": "2024-12-23T19:59:43.961595Z"
    }
   },
   "cell_type": "code",
   "source": [
    "train_and_evaluate(image_features_scaled, data['CLASS1'], \"Image CLASS1 (Outdoors/Indoors)\")\n",
    "train_and_evaluate(image_features_scaled, data['CLASS2'], \"Image CLASS2 (FOREST, CITY, etc.)\")"
   ],
   "id": "ba1f04a0a13f6917",
   "outputs": [
    {
     "name": "stdout",
     "output_type": "stream",
     "text": [
      "Image CLASS1 (Outdoors/Indoors) Accuracy: 0.8840579710144928\n",
      "Image CLASS2 (FOREST, CITY, etc.) Accuracy: 0.7101449275362319\n"
     ]
    }
   ],
   "execution_count": 87
  },
  {
   "metadata": {},
   "cell_type": "markdown",
   "source": "## Combined",
   "id": "c32fd1d305b24b25"
  },
  {
   "metadata": {
    "ExecuteTime": {
     "end_time": "2024-12-23T20:00:09.096587Z",
     "start_time": "2024-12-23T20:00:07.992966Z"
    }
   },
   "cell_type": "code",
   "source": [
    "combined_features = np.hstack([image_features, audio_features])\n",
    "combined_features_scaled = np.hstack([image_features_scaled, audio_features_scaled])"
   ],
   "id": "18860ccf11d51008",
   "outputs": [],
   "execution_count": 88
  },
  {
   "metadata": {
    "ExecuteTime": {
     "end_time": "2024-12-23T20:00:33.031389Z",
     "start_time": "2024-12-23T20:00:09.160124Z"
    }
   },
   "cell_type": "code",
   "source": [
    "train_and_evaluate(combined_features_scaled, data['CLASS1'], \"Combined CLASS1 (Outdoors/Indoors)\")\n",
    "train_and_evaluate(combined_features_scaled, data['CLASS2'], \"Combined CLASS2 (FOREST, CITY, etc.)\")"
   ],
   "id": "be6a8b567b32a2f",
   "outputs": [
    {
     "name": "stdout",
     "output_type": "stream",
     "text": [
      "Combined CLASS1 (Outdoors/Indoors) Accuracy: 0.8898550724637682\n",
      "Combined CLASS2 (FOREST, CITY, etc.) Accuracy: 0.7159420289855073\n"
     ]
    }
   ],
   "execution_count": 89
  }
 ],
 "metadata": {
  "kernelspec": {
   "display_name": "Python 3",
   "language": "python",
   "name": "python3"
  },
  "language_info": {
   "codemirror_mode": {
    "name": "ipython",
    "version": 2
   },
   "file_extension": ".py",
   "mimetype": "text/x-python",
   "name": "python",
   "nbconvert_exporter": "python",
   "pygments_lexer": "ipython2",
   "version": "2.7.6"
  }
 },
 "nbformat": 4,
 "nbformat_minor": 5
}
