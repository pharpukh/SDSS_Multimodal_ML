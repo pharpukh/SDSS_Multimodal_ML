{
 "cells": [
  {
   "cell_type": "code",
   "execution_count": 1,
   "id": "f5b4ba84-35c6-4239-9074-e3bd9ffe3d3c",
   "metadata": {},
   "outputs": [],
   "source": [
    "import numpy as np\n",
    "import pandas as pd\n",
    "import h5py\n",
    "import matplotlib.pyplot as plt\n",
    "from scipy import ndimage\n",
    "from sklearn.model_selection import train_test_split, GridSearchCV\n",
    "from sklearn.tree import DecisionTreeRegressor\n",
    "from sklearn.metrics import mean_absolute_error, r2_score, mean_squared_error\n",
    "import time"
   ]
  },
  {
   "cell_type": "code",
   "execution_count": 2,
   "id": "0a346456-5791-4942-bf5f-00ee8ffc0eaa",
   "metadata": {},
   "outputs": [],
   "source": [
    "CUBE_PATH = \"../sdss_cube_sfr/SDSS_cube_lean.h5\"\n",
    "sfrs = pd.read_hdf(CUBE_PATH, key=\"fits_spectra_metadata_star_formation_rates\")\n",
    "with h5py.File(CUBE_PATH, \"r\") as cube:\n",
    "    metadata = cube[\"dense_cube/0/ml_spectrum/spec_metadata_refs\"][:]\n",
    "metadata_indices = metadata[:, 0][\"ds_slice_idx\"]"
   ]
  },
  {
   "cell_type": "markdown",
   "id": "048a526b-5d0b-42ab-81c8-3ae1a5eff76d",
   "metadata": {},
   "source": [
    "# Data exploration and processing:"
   ]
  },
  {
   "cell_type": "code",
   "execution_count": 3,
   "id": "1d348629-9700-49d1-9f70-900a70f756ca",
   "metadata": {},
   "outputs": [
    {
     "name": "stdout",
     "output_type": "stream",
     "text": [
      "Total records (before filtering): 34613\n",
      "Total records (after filtering AVG >= -80): 30752\n",
      "FLAG == 0 count: 16841\n"
     ]
    }
   ],
   "source": [
    "sfrs = sfrs[sfrs.index.isin(metadata_indices)].copy()\n",
    "sfrs = sfrs[sfrs[\"AVG\"].notna()].copy()\n",
    "sfrs_filtered = sfrs[sfrs[\"AVG\"] >= -80].copy()\n",
    "sfrs_flag0_filtered = sfrs_filtered[sfrs_filtered[\"FLAG\"] == 0.0].copy()\n",
    "\n",
    "print(\"Total records (before filtering):\", len(sfrs))\n",
    "print(\"Total records (after filtering AVG >= -80):\", len(sfrs_filtered))\n",
    "print(\"FLAG == 0 count:\", len(sfrs_flag0_filtered))\n",
    "\n",
    "mask_all = np.in1d(metadata_indices, sfrs_filtered.index)\n",
    "mask_flag0 = np.in1d(metadata_indices, sfrs_flag0_filtered.index)\n",
    "selected_all = metadata_indices[mask_all]\n",
    "selected_flag0 = metadata_indices[mask_flag0]"
   ]
  },
  {
   "cell_type": "code",
   "execution_count": 4,
   "id": "bd9aa0fd-1d92-4418-814a-3c5d8b5cb30f",
   "metadata": {},
   "outputs": [
    {
     "name": "stdout",
     "output_type": "stream",
     "text": [
      "All images shape (zoom 0): (30752, 5, 64, 64)\n",
      "Filtered images shape (zoom 0): (16841, 5, 64, 64)\n",
      "All spectra shape (zoom 0): (30752, 4620)\n",
      "Filtered spectra shape (zoom 0): (16841, 4620)\n"
     ]
    }
   ],
   "source": [
    "all_images = []\n",
    "all_spectra = []\n",
    "filtered_images = []\n",
    "filtered_spectra = []\n",
    "\n",
    "for zoom in range(4):\n",
    "    img_key = f\"dense_cube/{zoom}/ml_image/cutout_3d_cube_zoom_{zoom}\"\n",
    "    spec_key = f\"dense_cube/{zoom}/ml_spectrum/spectral_1d_cube_zoom_{zoom}\"\n",
    "    with h5py.File(CUBE_PATH, \"r\") as cube:\n",
    "        images_zoom = cube[img_key][:][mask_all]\n",
    "        spectra_zoom = cube[spec_key][:][mask_all]\n",
    "    all_images.append(images_zoom)\n",
    "    all_spectra.append(spectra_zoom)\n",
    "    \n",
    "    with h5py.File(CUBE_PATH, \"r\") as cube:\n",
    "        images_zoom_flag0 = cube[img_key][:][mask_flag0]\n",
    "        spectra_zoom_flag0 = cube[spec_key][:][mask_flag0]\n",
    "    filtered_images.append(images_zoom_flag0)\n",
    "    filtered_spectra.append(spectra_zoom_flag0)\n",
    "\n",
    "print(\"All images shape (zoom 0):\", all_images[0].shape)\n",
    "print(\"Filtered images shape (zoom 0):\", filtered_images[0].shape)\n",
    "print(\"All spectra shape (zoom 0):\", all_spectra[0].shape)\n",
    "print(\"Filtered spectra shape (zoom 0):\", filtered_spectra[0].shape)"
   ]
  },
  {
   "cell_type": "code",
   "execution_count": 5,
   "id": "a3fbe6ab-da9a-4c7c-afeb-04c2c6bd573c",
   "metadata": {},
   "outputs": [
    {
     "name": "stdout",
     "output_type": "stream",
     "text": [
      "Cleaned All spectra shape (zoom 0): (20157, 4620)\n",
      "Cleaned FLAG==0 spectra shape (zoom 0): (11179, 4620)\n"
     ]
    }
   ],
   "source": [
    "mask_clean_all = ~np.isnan(all_spectra[0]).any(axis=1)\n",
    "mask_clean_flag0 = ~np.isnan(filtered_spectra[0]).any(axis=1)\n",
    "\n",
    "cleaned_all_images = [arr[mask_clean_all] for arr in all_images]\n",
    "cleaned_all_spectra = [arr[mask_clean_all] for arr in all_spectra]\n",
    "cleaned_filtered_images = [arr[mask_clean_flag0] for arr in filtered_images]\n",
    "cleaned_filtered_spectra = [arr[mask_clean_flag0] for arr in filtered_spectra]\n",
    "\n",
    "selected_all_clean = selected_all[mask_clean_all]\n",
    "selected_flag0_clean = selected_flag0[mask_clean_flag0]\n",
    "\n",
    "cleaned_sfrs_all = sfrs_filtered.loc[selected_all_clean]\n",
    "cleaned_sfrs_flag0 = sfrs_flag0_filtered.loc[selected_flag0_clean]\n",
    "\n",
    "print(\"Cleaned All spectra shape (zoom 0):\", cleaned_all_spectra[0].shape)\n",
    "print(\"Cleaned FLAG==0 spectra shape (zoom 0):\", cleaned_filtered_spectra[0].shape)"
   ]
  },
  {
   "cell_type": "code",
   "execution_count": 6,
   "id": "9b1f3565-ce84-4ccd-8e17-736afa589400",
   "metadata": {},
   "outputs": [],
   "source": [
    "def normalize_images(images_list):\n",
    "    normalized_list = []\n",
    "    for img_array in images_list:\n",
    "        min_val = np.min(img_array, axis=(2,3), keepdims=True)\n",
    "        max_val = np.max(img_array, axis=(2,3), keepdims=True)\n",
    "        norm_img = 2 * (img_array - min_val) / (max_val - min_val) - 1\n",
    "        normalized_list.append(norm_img)\n",
    "    return normalized_list\n",
    "\n",
    "normalized_all_images = normalize_images(cleaned_all_images)\n",
    "normalized_filtered_images = normalize_images(cleaned_filtered_images)\n",
    "\n",
    "def normalize_spectra(spectra_list):\n",
    "    normalized_list = []\n",
    "    for spec in spectra_list:\n",
    "        if spec.ndim == 1:\n",
    "            spec = spec[np.newaxis, :]\n",
    "        min_val = np.nanmin(spec, axis=1, keepdims=True)\n",
    "        max_val = np.nanmax(spec, axis=1, keepdims=True)\n",
    "        diff = np.where((max_val - min_val)==0, 1, max_val - min_val)\n",
    "        norm_spec = 2 * (spec - min_val) / diff - 1\n",
    "        normalized_list.append(norm_spec)\n",
    "    return normalized_list\n",
    "\n",
    "normalized_all_spectra = normalize_spectra(cleaned_all_spectra)\n",
    "normalized_filtered_spectra = normalize_spectra(cleaned_filtered_spectra)"
   ]
  },
  {
   "cell_type": "code",
   "execution_count": 8,
   "id": "ae6bc230-5be2-43f8-98e6-71ba85ed6f50",
   "metadata": {},
   "outputs": [
    {
     "name": "stdout",
     "output_type": "stream",
     "text": [
      "FLAG == 0 (Original): Found 1111 images with multiple objects from 11179 (9.94%).\n"
     ]
    },
    {
     "data": {
      "image/png": "[encoded data removed]",
      "text/plain": [
       "<Figure size 1500x300 with 5 Axes>"
      ]
     },
     "metadata": {},
     "output_type": "display_data"
    }
   ],
   "source": [
    "selected_Y_flag0 = cleaned_sfrs_flag0.loc[selected_flag0_clean][\"AVG\"].values\n",
    "\n",
    "CROP_SIZES_4 = {0: 32, 1: 16, 2: 8, 3: 4} \n",
    "THRESHOLD = 0.9\n",
    "\n",
    "def detect_and_visualize_multiple_objects(images_list, thresholds, crop_sizes=None, max_objects=1, thumbnail_size=3, group_name=\"\", print_spectra=False, spectra_list=None):\n",
    "    images_trimmed = []\n",
    "    for i, img_array in enumerate(images_list):\n",
    "        original_size = img_array.shape[-1]\n",
    "        target_size = crop_sizes.get(i, original_size) if crop_sizes is not None else original_size\n",
    "        start = (original_size - target_size) // 2\n",
    "        end = start + target_size\n",
    "        trimmed = img_array[..., start:end, start:end]\n",
    "        images_trimmed.append(trimmed)\n",
    "    multi_obj_indices = []\n",
    "    for idx in range(images_trimmed[0].shape[0]):\n",
    "        image = images_trimmed[0][idx, 2, :, :]\n",
    "        image_normalized = (image + 1) / 2\n",
    "        binary = image_normalized > thresholds\n",
    "        labeled, num_features = ndimage.label(binary)\n",
    "        if num_features > 1:\n",
    "            multi_obj_indices.append(idx)\n",
    "    total_images = images_trimmed[0].shape[0]\n",
    "    count_multi = len(multi_obj_indices)\n",
    "    percent_multi = (count_multi / total_images)*100 if total_images>0 else 0\n",
    "    print(f\"{group_name}: Found {count_multi} images with multiple objects from {total_images} ({percent_multi:.2f}%).\")\n",
    "    if multi_obj_indices:\n",
    "        display_indices = multi_obj_indices[:max_objects]\n",
    "        if print_spectra and spectra_list is not None:\n",
    "            num_disp = len(display_indices)\n",
    "            fig = plt.figure(figsize=(15, thumbnail_size * 2 * num_disp), dpi=100)\n",
    "            gs = gridspec.GridSpec(2 * num_disp, 5, hspace=0.6, wspace=0.3)\n",
    "            for i, obj_idx in enumerate(display_indices):\n",
    "                for col in range(5):\n",
    "                    ax = fig.add_subplot(gs[2*i, col])\n",
    "                    img_data = images_trimmed[0][obj_idx, col, :, :]\n",
    "                    ax.imshow(img_data, vmin=-1, vmax=1)\n",
    "                    ax.set_title(f\"Filter {col}\", fontsize=10)\n",
    "                    ax.axis(\"off\")\n",
    "                ax_spec = fig.add_subplot(gs[2*i+1, :])\n",
    "                spectrum = spectra_list[0][obj_idx]\n",
    "                wavelengths = np.linspace(3800,9200, len(spectrum))\n",
    "                ax_spec.plot(wavelengths, spectrum, linewidth=0.3)\n",
    "                ax_spec.set_title(\"Spectrum (Zoom 0)\", fontsize=10)\n",
    "                ax_spec.set_xlabel(\"Wavelength (Å)\", fontsize=10)\n",
    "                ax_spec.set_ylabel(\"Flux\", fontsize=10)\n",
    "                ax_spec.set_xlim([3800,9200])\n",
    "                ax_spec.set_ylim([-1,1])\n",
    "            fig.suptitle(f\"Images with ≥2 objects and spectra ({group_name})\", fontsize=14)\n",
    "            fig.tight_layout()\n",
    "            fig.subplots_adjust(top=0.93)\n",
    "            plt.show()\n",
    "        else:\n",
    "            num_disp = len(display_indices)\n",
    "            fig, axes = plt.subplots(num_disp, 5, figsize=(15, thumbnail_size * num_disp), dpi=100)\n",
    "            if num_disp == 1:\n",
    "                axes = axes.reshape(1, -1)\n",
    "            for row, obj_idx in enumerate(display_indices):\n",
    "                for col in range(5):\n",
    "                    ax = axes[row, col]\n",
    "                    img_data = images_trimmed[0][obj_idx, col, :, :]\n",
    "                    ax.imshow(img_data, vmin=-1, vmax=1)\n",
    "                    ax.set_title(f\"Filter {col}\", fontsize=10)\n",
    "                    ax.axis(\"off\")\n",
    "            fig.suptitle(f\"Images with ≥2 objects ({group_name})\", fontsize=14)\n",
    "            fig.tight_layout()\n",
    "            fig.subplots_adjust(top=0.99)\n",
    "            plt.show()\n",
    "    else:\n",
    "        print(f\"No images found for {group_name} with multiple objects.\")\n",
    "    return images_trimmed, multi_obj_indices\n",
    "\n",
    "orig_images_flag0, multi_obj_indices_flag0 = detect_and_visualize_multiple_objects(\n",
    "    normalized_filtered_images, thresholds=THRESHOLD, crop_sizes=None,\n",
    "    group_name=\"FLAG == 0 (Original)\", print_spectra=False, spectra_list=normalized_filtered_spectra\n",
    ")"
   ]
  },
  {
   "cell_type": "code",
   "execution_count": 9,
   "id": "22e0669d-e390-44a9-b235-985df0d366b8",
   "metadata": {},
   "outputs": [],
   "source": [
    "X_photo_all = orig_images_flag0[0]        \n",
    "X_spec_all = normalized_filtered_spectra[0]  \n",
    "mask_good = np.ones(X_photo_all.shape[0], dtype=bool)\n",
    "mask_good[multi_obj_indices_flag0] = False\n",
    "\n",
    "X_photo = X_photo_all[mask_good]\n",
    "X_spec = X_spec_all[mask_good]\n",
    "Y = selected_Y_flag0[:X_photo_all.shape[0]][mask_good]\n",
    "\n",
    "n_samples = min(X_photo.shape[0], X_spec.shape[0], len(Y))\n",
    "X_photo = X_photo[:n_samples]\n",
    "X_spec = X_spec[:n_samples]\n",
    "Y = Y[:n_samples]"
   ]
  },
  {
   "cell_type": "code",
   "execution_count": 10,
   "id": "05b80878-939f-4086-8909-8b583864b57f",
   "metadata": {},
   "outputs": [
    {
     "name": "stdout",
     "output_type": "stream",
     "text": [
      "Train samples: 6040\n",
      "Validation samples: 2014\n",
      "Test samples: 2014\n"
     ]
    }
   ],
   "source": [
    "X_photo_train_val, X_photo_test, X_spec_train_val, X_spec_test, Y_train_val, Y_test = train_test_split(\n",
    "    X_photo, X_spec, Y, test_size=0.2, random_state=42\n",
    ")\n",
    "X_photo_train, X_photo_val, X_spec_train, X_spec_val, Y_train, Y_val = train_test_split(\n",
    "    X_photo_train_val, X_spec_train_val, Y_train_val, test_size=0.25, random_state=42\n",
    ")\n",
    "\n",
    "print(\"Train samples:\", X_photo_train.shape[0])\n",
    "print(\"Validation samples:\", X_photo_val.shape[0])\n",
    "print(\"Test samples:\", X_photo_test.shape[0])"
   ]
  },
  {
   "cell_type": "markdown",
   "id": "8749b6e5-05a4-4c5a-9b62-a50cbfe2f1d0",
   "metadata": {},
   "source": [
    "# Machine Learning (FLAG == 0 only):"
   ]
  },
  {
   "cell_type": "markdown",
   "id": "b3de32db-ad8a-4ee5-a91d-d0580d68586a",
   "metadata": {},
   "source": [
    "## Decision tree:"
   ]
  },
  {
   "cell_type": "code",
   "execution_count": 11,
   "id": "ed2325e7-0c8d-4bd1-860d-b87608dbc907",
   "metadata": {},
   "outputs": [],
   "source": [
    "def run_grid_search_dt(X, Y, param_grid):\n",
    "    X_flat = X.reshape(X.shape[0], -1)\n",
    "    model = DecisionTreeRegressor(random_state=42)\n",
    "    grid = GridSearchCV(model, param_grid, scoring='r2', cv=5)\n",
    "    grid.fit(X_flat, Y)\n",
    "    best_model = grid.best_estimator_\n",
    "    return best_model, grid.best_params_, grid.best_score_\n",
    "\n",
    "\n",
    "def evaluate_model(model, X, Y):\n",
    "    X_flat = X.reshape(X.shape[0], -1)\n",
    "    Y_pred = model.predict(X_flat)\n",
    "    mae = mean_absolute_error(Y, Y_pred)\n",
    "    r2 = r2_score(Y, Y_pred)\n",
    "    error = Y_pred - Y\n",
    "    nmad = 1.4826 * np.median(np.abs(error - np.median(error)))\n",
    "    rmse = np.sqrt(mean_squared_error(Y, Y_pred))\n",
    "    return mae, r2, nmad, rmse\n",
    "\n",
    "def flatten_data(X):\n",
    "    return X.reshape(X.shape[0], -1)\n",
    "\n",
    "param_grid_dt = {\n",
    "    'max_depth': [5, 10, 15, 20, 25],\n",
    "    'max_features': ['sqrt', None]\n",
    "}\n",
    "\n",
    "results = {}\n",
    "runtime = {}"
   ]
  },
  {
   "cell_type": "markdown",
   "id": "a2a67f22-cc0e-4067-9483-2c517f843d48",
   "metadata": {},
   "source": [
    "## Spectrum and Photo separately:"
   ]
  },
  {
   "cell_type": "markdown",
   "id": "fc1ec866-fdde-41e4-877a-aa79aa031ada",
   "metadata": {},
   "source": [
    "### DT on Photo: "
   ]
  },
  {
   "cell_type": "code",
   "execution_count": null,
   "id": "c1b1f37e-ced5-49ac-93ef-ab2b59a01e67",
   "metadata": {},
   "outputs": [],
   "source": [
    "start = time.time()\n",
    "model_photo, params_photo, cv_score_photo = run_grid_search_dt(X_photo_train, Y_train, param_grid_dt)\n",
    "runtime[\"DT Photo\"] = time.time() - start\n",
    "\n",
    "mae_photo_val, r2_photo_val, nmad_photo_val, rmse_photo_val = evaluate_model(model_photo, X_photo_val, Y_val)\n",
    "results[\"DT Photo\"] = {\n",
    "    'params': params_photo,\n",
    "    'cv_score': cv_score_photo,\n",
    "    'mae': mae_photo_val,\n",
    "    'r2': r2_photo_val,\n",
    "    'nmad': nmad_photo_val,\n",
    "    'rmse': rmse_photo_val\n",
    "}\n",
    "print(\"DT Photo best params:\", params_photo)"
   ]
  },
  {
   "cell_type": "markdown",
   "id": "225511f4-2e06-4882-8f1d-17e1ba00c48f",
   "metadata": {},
   "source": [
    "### DT on Spectra:"
   ]
  },
  {
   "cell_type": "code",
   "execution_count": null,
   "id": "b0c71185-9e97-4229-b640-419685aa49f5",
   "metadata": {},
   "outputs": [],
   "source": [
    "start = time.time()\n",
    "model_spec, params_spec, cv_score_spec = run_grid_search_dt(X_spec_train, Y_train, param_grid_dt)\n",
    "runtime[\"DT Spectra\"] = time.time() - start\n",
    "\n",
    "mae_spec_val, r2_spec_val, nmad_spec_val, rmse_spec_val = evaluate_model(model_spec, X_spec_val, Y_val)\n",
    "results[\"DT Spectra\"] = {\n",
    "    'params': params_spec,\n",
    "    'cv_score': cv_score_spec,\n",
    "    'mae': mae_spec_val,\n",
    "    'r2': r2_spec_val,\n",
    "    'nmad': nmad_spec_val,\n",
    "    'rmse': rmse_spec_val\n",
    "}\n",
    "print(\"DT Spectra best params:\", params_spec)"
   ]
  },
  {
   "cell_type": "markdown",
   "id": "25ddccbf-03ce-4d37-b18f-37475d8e5c67",
   "metadata": {},
   "source": [
    "### DT Early Fusion:"
   ]
  },
  {
   "cell_type": "code",
   "execution_count": null,
   "id": "4405ff82-91df-4ac0-aa63-a76bd06c517f",
   "metadata": {},
   "outputs": [],
   "source": [
    "X_photo_train_flat = flatten_data(X_photo_train)\n",
    "X_spec_train_flat = flatten_data(X_spec_train)\n",
    "X_early_train = np.concatenate([X_photo_train_flat, X_spec_train_flat], axis=1)\n",
    "\n",
    "X_photo_val_flat = flatten_data(X_photo_val)\n",
    "X_spec_val_flat = flatten_data(X_spec_val)\n",
    "X_early_val = np.concatenate([X_photo_val_flat, X_spec_val_flat], axis=1)\n",
    "\n",
    "start = time.time()\n",
    "model_early, params_early, cv_score_early = run_grid_search_dt(X_early_train, Y_train, param_grid_dt)\n",
    "runtime[\"DT Early Fusion\"] = time.time() - start\n",
    "\n",
    "mae_early_val, r2_early_val, nmad_early_val, rmse_early_val = evaluate_model(model_early, X_early_val, Y_val)\n",
    "results[\"DT Early Fusion\"] = {\n",
    "    'params': params_early,\n",
    "    'cv_score': cv_score_early,\n",
    "    'mae': mae_early_val,\n",
    "    'r2': r2_early_val,\n",
    "    'nmad': nmad_early_val,\n",
    "    'rmse': rmse_early_val\n",
    "}\n",
    "print(\"DT Early Fusion best params:\", params_early)"
   ]
  },
  {
   "cell_type": "markdown",
   "id": "2a48dc33-be1e-4900-b39f-95f086623e41",
   "metadata": {},
   "source": [
    "### DT Late Fusion:"
   ]
  },
  {
   "cell_type": "code",
   "execution_count": null,
   "id": "141439e0-947c-4e35-aeb2-b5c7bd4b155e",
   "metadata": {},
   "outputs": [],
   "source": [
    "Y_pred_dt_photo_test = model_photo.predict(flatten_data(X_photo_test))\n",
    "Y_pred_dt_spec_test = model_spec.predict(flatten_data(X_spec_test))\n",
    "Y_pred_dt_late_test = (Y_pred_dt_photo_test + Y_pred_dt_spec_test) / 2.0\n",
    "\n",
    "X_photo_test_flat = flatten_data(X_photo_test)\n",
    "X_spec_test_flat = flatten_data(X_spec_test)\n",
    "X_early_test = np.concatenate([X_photo_test_flat, X_spec_test_flat], axis=1)\n",
    "Y_pred_dt_early_test = model_early.predict(X_early_test)\n",
    "\n",
    "runtime[\"DT Late Fusion\"] = runtime[\"DT Photo\"] + runtime[\"DT Spectra\"]"
   ]
  },
  {
   "cell_type": "markdown",
   "id": "9ea3c354-cd67-4bbb-9f31-b3f1ad6259bb",
   "metadata": {},
   "source": [
    "### Compile all results:"
   ]
  },
  {
   "cell_type": "code",
   "execution_count": null,
   "id": "d5d2a165-5fb8-40f1-8b62-4c9d3449287e",
   "metadata": {},
   "outputs": [],
   "source": [
    "Y_pred_photo_test = model_photo.predict(flatten_data(X_photo_test))\n",
    "mae_photo_test  = mean_absolute_error(Y_test, Y_pred_photo_test)\n",
    "r2_photo_test   = r2_score(Y_test, Y_pred_photo_test)\n",
    "error_photo_test = Y_pred_photo_test - Y_test\n",
    "nmad_photo_test = 1.4826 * np.median(np.abs(error_photo_test - np.median(error_photo_test)))\n",
    "rmse_photo_test = np.sqrt(mean_squared_error(Y_test, Y_pred_photo_test))\n",
    "\n",
    "Y_pred_spec_test = model_spec.predict(flatten_data(X_spec_test))\n",
    "mae_spec_test  = mean_absolute_error(Y_test, Y_pred_spec_test)\n",
    "r2_spec_test   = r2_score(Y_test, Y_pred_spec_test)\n",
    "error_spec_test = Y_pred_spec_test - Y_test\n",
    "nmad_spec_test = 1.4826 * np.median(np.abs(error_spec_test - np.median(error_spec_test)))\n",
    "rmse_spec_test = np.sqrt(mean_squared_error(Y_test, Y_pred_spec_test))\n",
    "\n",
    "X_photo_test_flat = flatten_data(X_photo_test)\n",
    "X_spec_test_flat  = flatten_data(X_spec_test)\n",
    "X_early_test      = np.concatenate([X_photo_test_flat, X_spec_test_flat], axis=1)\n",
    "Y_pred_early_test = model_early.predict(X_early_test)\n",
    "mae_early_test  = mean_absolute_error(Y_test, Y_pred_early_test)\n",
    "r2_early_test   = r2_score(Y_test, Y_pred_early_test)\n",
    "error_early_test = Y_pred_early_test - Y_test\n",
    "nmad_early_test = 1.4826 * np.median(np.abs(error_early_test - np.median(error_early_test)))\n",
    "rmse_early_test = np.sqrt(mean_squared_error(Y_test, Y_pred_early_test))\n",
    "\n",
    "Y_pred_late_test = (Y_pred_photo_test + Y_pred_spec_test) / 2.0\n",
    "mae_late_test  = mean_absolute_error(Y_test, Y_pred_late_test)\n",
    "r2_late_test   = r2_score(Y_test, Y_pred_late_test)\n",
    "error_late_test = Y_pred_late_test - Y_test\n",
    "nmad_late_test = 1.4826 * np.median(np.abs(error_late_test - np.median(error_late_test)))\n",
    "rmse_late_test = np.sqrt(mean_squared_error(Y_test, Y_pred_late_test))\n",
    "\n",
    "results_test = {\n",
    "    \"DT Photo\":   {'r2': r2_photo_test,   'mae': mae_photo_test,   'nmad': nmad_photo_test,   'rmse': rmse_photo_test},\n",
    "    \"DT Spectra\": {'r2': r2_spec_test,    'mae': mae_spec_test,    'nmad': nmad_spec_test,    'rmse': rmse_spec_test},\n",
    "    \"DT Early Fusion\": {'r2': r2_early_test, 'mae': mae_early_test, 'nmad': nmad_early_test, 'rmse': rmse_early_test},\n",
    "    \"DT Late Fusion\":  {'r2': r2_late_test,  'mae': mae_late_test,  'nmad': nmad_late_test,  'rmse': rmse_late_test}\n",
    "}"
   ]
  },
  {
   "cell_type": "markdown",
   "id": "1a086b48-3bb5-4b6b-ab32-01b5284e1fb1",
   "metadata": {},
   "source": [
    "### Visualization of comparative metrics:"
   ]
  },
  {
   "cell_type": "code",
   "execution_count": null,
   "id": "6b9c1c2f-c121-451e-9585-d290a4a3955a",
   "metadata": {},
   "outputs": [],
   "source": [
    "methods = list(results_test.keys())\n",
    "metrics_names = ['R²', 'MAE', 'NMAD', 'RMSE']\n",
    "values = {metric: [] for metric in metrics_names}\n",
    "for method in methods:\n",
    "    values['R²'].append(results_test[method].get('r2', 0))\n",
    "    values['MAE'].append(results_test[method].get('mae', 0))\n",
    "    values['NMAD'].append(results_test[method].get('nmad', 0))\n",
    "    values['RMSE'].append(results_test[method].get('rmse', 0))\n",
    "\n",
    "x = np.arange(len(methods))\n",
    "fig, axs = plt.subplots(2, 2, figsize=(16, 12))\n",
    "axs = axs.flatten()\n",
    "for i, metric in enumerate(metrics_names):\n",
    "    axs[i].bar(x, values[metric], color='skyblue')\n",
    "    axs[i].set_xticks(x)\n",
    "    axs[i].set_xticklabels(methods, rotation=45, ha='right')\n",
    "    axs[i].set_title(metric)\n",
    "    axs[i].set_ylabel(\"Value\")\n",
    "    for j, v in enumerate(values[metric]):\n",
    "        axs[i].text(j, v, f\"{v:.3f}\", ha='center', va='bottom', fontsize=10)\n",
    "plt.suptitle(\"Test Results Comparison: DT (Photo, Spectra, Early Fusion, Late Fusion)\", fontsize=18)\n",
    "plt.tight_layout(rect=[0, 0, 1, 0.95])\n",
    "plt.show()"
   ]
  },
  {
   "cell_type": "markdown",
   "id": "01b9e9b8-09f6-4b24-8054-9e2e31279f9b",
   "metadata": {},
   "source": [
    "### Visualization of runtimes:"
   ]
  },
  {
   "cell_type": "code",
   "execution_count": null,
   "id": "07282bcf-ef58-4e45-9892-1838551499af",
   "metadata": {},
   "outputs": [],
   "source": [
    "runtime_methods = list(runtime.keys())\n",
    "runtime_values = [runtime[m] for m in runtime_methods]\n",
    "\n",
    "plt.figure(figsize=(10, 6))\n",
    "plt.bar(runtime_methods, runtime_values, color='salmon')\n",
    "plt.xticks(rotation=45, ha='right')\n",
    "plt.ylabel(\"Time (seconds)\")\n",
    "plt.title(\"Runtime Comparison for Each Variant\")\n",
    "for i, t in enumerate(runtime_values):\n",
    "    plt.text(i, t, f\"{t:.2f}s\", ha='center', va='bottom', fontsize=10)\n",
    "plt.tight_layout()\n",
    "plt.show()"
   ]
  }
 ],
 "metadata": {
  "kernelspec": {
   "display_name": "Python 3 (ipykernel)",
   "language": "python",
   "name": "python3"
  },
  "language_info": {
   "codemirror_mode": {
    "name": "ipython",
    "version": 3
   },
   "file_extension": ".py",
   "mimetype": "text/x-python",
   "name": "python",
   "nbconvert_exporter": "python",
   "pygments_lexer": "ipython3",
   "version": "3.9.21"
  }
 },
 "nbformat": 4,
 "nbformat_minor": 5
}
